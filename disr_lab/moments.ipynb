{
 "cells": [
  {
   "cell_type": "code",
   "execution_count": null,
   "metadata": {},
   "outputs": [],
   "source": [
    "%matplotlib widget\n",
    "import matplotlib\n",
    "\n",
    "import numpy as np\n",
    "import matplotlib.pyplot as plt\n",
    "\n",
    "import sys\n",
    "sys.path.append(\"./underactuated/src\")\n",
    "\n",
    "import math\n",
    "\n",
    "from underactuated.meshcat_rigid_body_visualizer import (\n",
    "    MeshcatRigidBodyVisualizer)\n",
    "\n",
    "from pydrake.all import (\n",
    "    DiagramBuilder,\n",
    "    RigidBodyFrame,\n",
    "    RigidBodyTree,\n",
    "    SignalLogger,\n",
    "    Simulator,\n",
    "    AddModelInstanceFromUrdfFile,\n",
    "    FloatingBaseType,\n",
    "    RbtInverseDynamics,\n",
    "    VectorSystem,\n",
    ")\n",
    "\n",
    "from pydrake.solvers import ik"
   ]
  },
  {
   "cell_type": "raw",
   "metadata": {},
   "source": [
    "# [u'pgf', u'cairo', u'MacOSX', u'CocoaAgg', u'gdk', u'ps', u'GTKAgg', u'nbAgg', u'GTK', u'Qt5Agg', u'template', u'emf', u'GTK3Cairo', u'GTK3Agg', u'WX', u'Qt4Agg', u'TkAgg', u'agg', u'svg', u'GTKCairo', u'WXAgg', u'WebAgg', u'pdf']"
   ]
  },
  {
   "cell_type": "code",
   "execution_count": null,
   "metadata": {},
   "outputs": [],
   "source": [
    "class Controller(VectorSystem):\n",
    "    # konstruktor klasy\n",
    "    def __init__(self, v):\n",
    "        # wywolanie konstuktora klasy nadrzednej VectorSystem\n",
    "        # Podane parametry odpowiadaja opiektowi z 1 portem wyjsciowym i bez portow wejsciowych\n",
    "        VectorSystem.__init__(self, 0, len(v))\n",
    "        # ustawienie pola klasy na wartosc poczatkowa 0\n",
    "        # ta wartosc stanowi w tym przypadku wartosc momentu napedowego\n",
    "        self.value = v\n",
    "\n",
    "    # funkcja odpowiadajaca za wyliczanie wartosci wyjsciowej output podczas symulacji\n",
    "    def _DoCalcVectorOutput(self, context, unused, unused2, output):\n",
    "        output[:] = self.value"
   ]
  },
  {
   "cell_type": "code",
   "execution_count": null,
   "metadata": {
    "scrolled": true
   },
   "outputs": [],
   "source": [
    "class Moments():    \n",
    "    def load_model(self, model):\n",
    "        self.rbt = RigidBodyTree()\n",
    "        robot_base_frame = RigidBodyFrame(\n",
    "                \"robot_base_frame\", self.rbt.world(),\n",
    "                [0.0, 0, 0], [0, 0, 0])\n",
    "        AddModelInstanceFromUrdfFile(model, FloatingBaseType.kFixed,\n",
    "                                         robot_base_frame, self.rbt)\n",
    "    \n",
    "    def calculate_moment(self, state, acceleration):\n",
    "        builder = DiagramBuilder()\n",
    "        sp = builder.AddSystem(Controller(state))\n",
    "        acc_sp = builder.AddSystem(Controller(acceleration))\n",
    "        inv_dyn = RbtInverseDynamics(self.rbt, RbtInverseDynamics.InverseDynamicsMode.kInverseDynamics)\n",
    "        invd = builder.AddSystem(inv_dyn)\n",
    "        logger = builder.AddSystem(SignalLogger(inv_dyn.get_output_port(0).size()))\n",
    "        logger._DeclarePeriodicPublish(1. / 1000, 0.0)\n",
    "        builder.Connect(sp.get_output_port(0), invd.get_input_port(0))\n",
    "        builder.Connect(acc_sp.get_output_port(0), invd.get_input_port(1))\n",
    "        builder.Connect(invd.get_output_port(0), logger.get_input_port(0))\n",
    "\n",
    "        diagram = builder.Build()\n",
    "        simulator = Simulator(diagram)\n",
    "        simulator.set_target_realtime_rate(-1.0)\n",
    "        simulator.set_publish_every_time_step(False)\n",
    "\n",
    "        simulator.StepTo(0)\n",
    "        return logger.data()[:,0]\n",
    "  \n",
    "\n",
    "\n"
   ]
  },
  {
   "cell_type": "code",
   "execution_count": null,
   "metadata": {},
   "outputs": [],
   "source": [
    "#Stworzenie obiektu\n",
    "m = Moments()\n",
    "\n",
    "# Załadowanie modelu\n",
    "m.load_model(\"wahadlo.urdf\")\n",
    "\n",
    "# Wyznaczenie momentu przy zadanych warosciach zadanych wartosciach polozen i przedosci oraz przyspieszen zlaczowych\n",
    "# m.calculate_moment([q,dq],[ddq]),\n",
    "# gdzie q, dq i ddq to dopowiednio: wektor polozen, predkosci i przyspieszen zlaczowych\n",
    "moments = m.calculate_moment([math.radians(90.0),0],[0])\n",
    "print(moments)"
   ]
  }
 ],
 "metadata": {
  "kernelspec": {
   "display_name": "Python 2",
   "language": "python",
   "name": "python2"
  },
  "language_info": {
   "codemirror_mode": {
    "name": "ipython",
    "version": 2
   },
   "file_extension": ".py",
   "mimetype": "text/x-python",
   "name": "python",
   "nbconvert_exporter": "python",
   "pygments_lexer": "ipython2",
   "version": "2.7.12"
  }
 },
 "nbformat": 4,
 "nbformat_minor": 2
}
